{
 "cells": [
  {
   "cell_type": "code",
   "execution_count": null,
   "metadata": {
    "collapsed": false
   },
   "outputs": [
    {
     "name": "stderr",
     "output_type": "stream",
     "text": [
      "/usr/local/lib/python2.7/site-packages/IPython/extensions/rmagic.py:11: UserWarning: The rmagic extension in IPython has moved to `rpy2.ipython`, please see `rpy2` documentation.\n",
      "  warnings.warn(\"The rmagic extension in IPython has moved to \"\n"
     ]
    }
   ],
   "source": [
    "# Boilerplate at top of file\n",
    "%load_ext autoreload\n",
    "%load_ext rmagic\n",
    "%autoreload 2\n",
    "import warnings\n",
    "warnings.filterwarnings('ignore')\n",
    "import pandas as pd\n",
    "import numpy as np\n",
    "import datetime\n",
    "import math\n",
    "\n",
    "import matplotlib.pyplot as plt\n",
    "import matplotlib\n",
    "\n",
    "%matplotlib inline\n",
    "plt.style.use('ggplot')\n",
    "\n",
    "import seaborn as sns\n",
    "from ggplot import *\n",
    "\n",
    "\n",
    "### Custom\n",
    "import nltk\n",
    "import sys\n",
    "sys.path.append('../')\n",
    "import cleaner\n",
    "from feature_eng import FeatureFactory"
   ]
  },
  {
   "cell_type": "code",
   "execution_count": null,
   "metadata": {
    "collapsed": false
   },
   "outputs": [],
   "source": [
    "df_train = pd.read_csv('../data/train_sample.csv', encoding='ISO-8859-1')\n",
    "# df_train = pd.read_csv('../data/train_joined.csv', encoding='ISO-8859-1')\n",
    "\n",
    "ff = FeatureFactory()\n",
    "df_train_feats = ff.apply_feature_eng(df_train)\n",
    "feature_columns = ff.get_feature_names()\n",
    "ff.get_feature_descriptions_map()"
   ]
  },
  {
   "cell_type": "code",
   "execution_count": null,
   "metadata": {
    "collapsed": false
   },
   "outputs": [],
   "source": [
    "from sklearn.lda import LDA\n",
    "\n",
    "lda = LDA()\n",
    "X = lda.fit_transform(df_train[feature_columns], np.round(df_train['relevance']))\n",
    "Y = np.round(df_train['relevance']) - 1\n",
    "colors=['red', 'blue', 'green']\n",
    "plt.scatter(X[:,0], X[:,1], c = map(lambda x: colors[int(x)], Y))"
   ]
  },
  {
   "cell_type": "code",
   "execution_count": null,
   "metadata": {
    "collapsed": false
   },
   "outputs": [],
   "source": [
    "from sklearn.decomposition import pca\n",
    "\n",
    "pca = pca.PCA(n_components=2)\n",
    "X = pca.fit_transform(df_train[feature_columns])\n",
    "colors=['red', 'blue', 'green']\n",
    "plt.scatter(X[:,0], X[:,1], c = map(lambda x: colors[int(x)], Y))"
   ]
  },
  {
   "cell_type": "markdown",
   "metadata": {
    "collapsed": true
   },
   "source": [
    "# Regression Model"
   ]
  },
  {
   "cell_type": "code",
   "execution_count": null,
   "metadata": {
    "collapsed": true
   },
   "outputs": [],
   "source": []
  }
 ],
 "metadata": {
  "kernelspec": {
   "display_name": "Python 2",
   "language": "python",
   "name": "python2"
  },
  "language_info": {
   "codemirror_mode": {
    "name": "ipython",
    "version": 2
   },
   "file_extension": ".py",
   "mimetype": "text/x-python",
   "name": "python",
   "nbconvert_exporter": "python",
   "pygments_lexer": "ipython2",
   "version": "2.7.11"
  }
 },
 "nbformat": 4,
 "nbformat_minor": 0
}
