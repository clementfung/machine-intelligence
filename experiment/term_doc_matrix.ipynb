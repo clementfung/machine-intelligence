{
 "cells": [
  {
   "cell_type": "markdown",
   "metadata": {},
   "source": [
    "Code to test the effectiveness of term similarity through Cosine Similarity metrics"
   ]
  },
  {
   "cell_type": "code",
   "execution_count": 31,
   "metadata": {
    "collapsed": false
   },
   "outputs": [
    {
     "name": "stdout",
     "output_type": "stream",
     "text": [
      "The autoreload extension is already loaded. To reload it, use:\n",
      "  %reload_ext autoreload\n"
     ]
    }
   ],
   "source": [
    "import pandas as pd\n",
    "import numpy as np\n",
    "import seaborn as sns\n",
    "import matplotlib.pyplot as plt\n",
    "from mpl_toolkits.mplot3d import Axes3D\n",
    "%matplotlib inline\n",
    "%load_ext autoreload\n",
    "%autoreload 2\n",
    "import sys\n",
    "sys.path.append('../')\n",
    "import cleaner"
   ]
  },
  {
   "cell_type": "code",
   "execution_count": 2,
   "metadata": {
    "collapsed": true
   },
   "outputs": [],
   "source": [
    "df_prods = pd.read_csv('../data/product_descriptions.csv')"
   ]
  },
  {
   "cell_type": "code",
   "execution_count": 3,
   "metadata": {
    "collapsed": false
   },
   "outputs": [],
   "source": [
    "from sklearn.feature_extraction.text import CountVectorizer, TfidfVectorizer\n",
    "from nltk.corpus import stopwords\n",
    "\n",
    "\n",
    "vect = CountVectorizer(min_df=1, stop_words=stopwords.words('english'))\n",
    "X_vect = vect.fit_transform(df_prods['product_description'])\n"
   ]
  },
  {
   "cell_type": "code",
   "execution_count": 4,
   "metadata": {
    "collapsed": true
   },
   "outputs": [],
   "source": [
    "tfidf = TfidfVectorizer(min_df=1, stop_words=stopwords.words('english'))\n",
    "X_tfidf = tfidf.fit_transform(df_prods['product_description'])"
   ]
  },
  {
   "cell_type": "code",
   "execution_count": 5,
   "metadata": {
    "collapsed": false
   },
   "outputs": [
    {
     "name": "stdout",
     "output_type": "stream",
     "text": [
      "  (0, 21617)\t1\n",
      "  (0, 57044)\t1\n"
     ]
    }
   ],
   "source": [
    "# How to convert a sentance to a vector\n",
    "# gives back a 1 x p vector and counts the occurences\n",
    "print vect.transform(['common angles'])"
   ]
  },
  {
   "cell_type": "code",
   "execution_count": 6,
   "metadata": {
    "collapsed": false
   },
   "outputs": [
    {
     "name": "stdout",
     "output_type": "stream",
     "text": [
      "(124428, 268737)\n"
     ]
    }
   ],
   "source": [
    "print tfidf.shape"
   ]
  },
  {
   "cell_type": "markdown",
   "metadata": {},
   "source": [
    "# Comapre with the search term"
   ]
  },
  {
   "cell_type": "code",
   "execution_count": 7,
   "metadata": {
    "collapsed": true
   },
   "outputs": [],
   "source": [
    "df_train = pd.read_csv('../data/train_sample.csv')"
   ]
  },
  {
   "cell_type": "code",
   "execution_count": 8,
   "metadata": {
    "collapsed": false
   },
   "outputs": [
    {
     "data": {
      "text/plain": [
       "<1x268737 sparse matrix of type '<type 'numpy.int64'>'\n",
       "\twith 3 stored elements in Compressed Sparse Row format>"
      ]
     },
     "execution_count": 8,
     "metadata": {},
     "output_type": "execute_result"
    }
   ],
   "source": [
    "vect.transform(df_train.head(n=1)['search_term'])"
   ]
  },
  {
   "cell_type": "code",
   "execution_count": 9,
   "metadata": {
    "collapsed": false
   },
   "outputs": [],
   "source": [
    "from sklearn.metrics.pairwise import cosine_similarity"
   ]
  },
  {
   "cell_type": "code",
   "execution_count": 10,
   "metadata": {
    "collapsed": false
   },
   "outputs": [
    {
     "name": "stdout",
     "output_type": "stream",
     "text": [
      "3.0\n",
      "chair molding\n",
      "Complete your bathroom with this matching accessory set. This set includes a single towel rod and a double robe hook. Constructed with lead-free brass, this set is finished with beautiful premium chrome plating.2 hooks to maximize storage spaceSingle towel rod can hold up to 6 lbs. constructed with lead-free brass, ensuring strength and durabilityQuality control approved in Canada and re-inspected prior to shipping your order; premium chrome plating to suit any home decorMounting hardware included; solid bulky brass feelConcealed screw installation for a clean lookDesigned for easy installation\n"
     ]
    }
   ],
   "source": [
    "\n",
    "row_num = 2\n",
    "row = df_train.loc[row_num]\n",
    "print row.relevance\n",
    "print row['search_term']\n",
    "print row['product_description']"
   ]
  },
  {
   "cell_type": "code",
   "execution_count": 29,
   "metadata": {
    "collapsed": false
   },
   "outputs": [],
   "source": [
    "def get_cosine_similarity(row, df_corpus, vectorizer, X):\n",
    "    row_num = df_corpus[df_corpus['product_uid'] == row['product_uid']].index\n",
    "    return cosine_similarity(X[row_num],vectorizer.transform([row['search_term']])).tolist()[0][0]\n",
    "df_train['cosine_count'] = df_train.apply(get_cosine_similarity, axis=1, args = (df_prods, vect, X_vect))\n",
    "df_train['cosine_tfidf'] = df_train.apply(get_cosine_similarity, axis=1, args = (df_prods, tfidf, X_tfidf))"
   ]
  },
  {
   "cell_type": "code",
   "execution_count": 42,
   "metadata": {
    "collapsed": false
   },
   "outputs": [
    {
     "data": {
      "text/html": [
       "<div>\n",
       "<table border=\"1\" class=\"dataframe\">\n",
       "  <thead>\n",
       "    <tr style=\"text-align: right;\">\n",
       "      <th></th>\n",
       "      <th>cosine_count</th>\n",
       "      <th>cosine_tfidf</th>\n",
       "    </tr>\n",
       "  </thead>\n",
       "  <tbody>\n",
       "    <tr>\n",
       "      <th>0</th>\n",
       "      <td>0.144338</td>\n",
       "      <td>0.129630</td>\n",
       "    </tr>\n",
       "    <tr>\n",
       "      <th>1</th>\n",
       "      <td>0.241955</td>\n",
       "      <td>0.249450</td>\n",
       "    </tr>\n",
       "    <tr>\n",
       "      <th>2</th>\n",
       "      <td>0.362473</td>\n",
       "      <td>0.353767</td>\n",
       "    </tr>\n",
       "    <tr>\n",
       "      <th>3</th>\n",
       "      <td>0.188562</td>\n",
       "      <td>0.140551</td>\n",
       "    </tr>\n",
       "    <tr>\n",
       "      <th>4</th>\n",
       "      <td>0.000000</td>\n",
       "      <td>0.000000</td>\n",
       "    </tr>\n",
       "    <tr>\n",
       "      <th>5</th>\n",
       "      <td>0.359211</td>\n",
       "      <td>0.135160</td>\n",
       "    </tr>\n",
       "    <tr>\n",
       "      <th>6</th>\n",
       "      <td>0.116642</td>\n",
       "      <td>0.185533</td>\n",
       "    </tr>\n",
       "    <tr>\n",
       "      <th>7</th>\n",
       "      <td>0.066667</td>\n",
       "      <td>0.109129</td>\n",
       "    </tr>\n",
       "    <tr>\n",
       "      <th>8</th>\n",
       "      <td>0.217250</td>\n",
       "      <td>0.169899</td>\n",
       "    </tr>\n",
       "    <tr>\n",
       "      <th>9</th>\n",
       "      <td>0.286910</td>\n",
       "      <td>0.236714</td>\n",
       "    </tr>\n",
       "    <tr>\n",
       "      <th>10</th>\n",
       "      <td>0.115987</td>\n",
       "      <td>0.182537</td>\n",
       "    </tr>\n",
       "    <tr>\n",
       "      <th>11</th>\n",
       "      <td>0.047246</td>\n",
       "      <td>0.048947</td>\n",
       "    </tr>\n",
       "    <tr>\n",
       "      <th>12</th>\n",
       "      <td>0.047946</td>\n",
       "      <td>0.091803</td>\n",
       "    </tr>\n",
       "    <tr>\n",
       "      <th>13</th>\n",
       "      <td>0.444554</td>\n",
       "      <td>0.362271</td>\n",
       "    </tr>\n",
       "    <tr>\n",
       "      <th>14</th>\n",
       "      <td>0.195180</td>\n",
       "      <td>0.181003</td>\n",
       "    </tr>\n",
       "    <tr>\n",
       "      <th>15</th>\n",
       "      <td>0.096225</td>\n",
       "      <td>0.067655</td>\n",
       "    </tr>\n",
       "    <tr>\n",
       "      <th>16</th>\n",
       "      <td>0.000000</td>\n",
       "      <td>0.000000</td>\n",
       "    </tr>\n",
       "    <tr>\n",
       "      <th>17</th>\n",
       "      <td>0.136717</td>\n",
       "      <td>0.118413</td>\n",
       "    </tr>\n",
       "    <tr>\n",
       "      <th>18</th>\n",
       "      <td>0.160128</td>\n",
       "      <td>0.178269</td>\n",
       "    </tr>\n",
       "    <tr>\n",
       "      <th>19</th>\n",
       "      <td>0.219199</td>\n",
       "      <td>0.157162</td>\n",
       "    </tr>\n",
       "    <tr>\n",
       "      <th>20</th>\n",
       "      <td>0.160128</td>\n",
       "      <td>0.134373</td>\n",
       "    </tr>\n",
       "    <tr>\n",
       "      <th>21</th>\n",
       "      <td>0.000000</td>\n",
       "      <td>0.000000</td>\n",
       "    </tr>\n",
       "    <tr>\n",
       "      <th>22</th>\n",
       "      <td>0.168232</td>\n",
       "      <td>0.096064</td>\n",
       "    </tr>\n",
       "    <tr>\n",
       "      <th>23</th>\n",
       "      <td>0.307729</td>\n",
       "      <td>0.300493</td>\n",
       "    </tr>\n",
       "    <tr>\n",
       "      <th>24</th>\n",
       "      <td>0.106600</td>\n",
       "      <td>0.158227</td>\n",
       "    </tr>\n",
       "    <tr>\n",
       "      <th>25</th>\n",
       "      <td>0.526152</td>\n",
       "      <td>0.528172</td>\n",
       "    </tr>\n",
       "    <tr>\n",
       "      <th>26</th>\n",
       "      <td>0.243857</td>\n",
       "      <td>0.227389</td>\n",
       "    </tr>\n",
       "    <tr>\n",
       "      <th>27</th>\n",
       "      <td>0.070535</td>\n",
       "      <td>0.046695</td>\n",
       "    </tr>\n",
       "    <tr>\n",
       "      <th>28</th>\n",
       "      <td>0.218218</td>\n",
       "      <td>0.186266</td>\n",
       "    </tr>\n",
       "    <tr>\n",
       "      <th>29</th>\n",
       "      <td>0.000000</td>\n",
       "      <td>0.000000</td>\n",
       "    </tr>\n",
       "    <tr>\n",
       "      <th>...</th>\n",
       "      <td>...</td>\n",
       "      <td>...</td>\n",
       "    </tr>\n",
       "    <tr>\n",
       "      <th>70</th>\n",
       "      <td>0.068680</td>\n",
       "      <td>0.038034</td>\n",
       "    </tr>\n",
       "    <tr>\n",
       "      <th>71</th>\n",
       "      <td>0.213201</td>\n",
       "      <td>0.143734</td>\n",
       "    </tr>\n",
       "    <tr>\n",
       "      <th>72</th>\n",
       "      <td>0.170251</td>\n",
       "      <td>0.151807</td>\n",
       "    </tr>\n",
       "    <tr>\n",
       "      <th>73</th>\n",
       "      <td>0.145095</td>\n",
       "      <td>0.203128</td>\n",
       "    </tr>\n",
       "    <tr>\n",
       "      <th>74</th>\n",
       "      <td>0.174402</td>\n",
       "      <td>0.198369</td>\n",
       "    </tr>\n",
       "    <tr>\n",
       "      <th>75</th>\n",
       "      <td>0.181071</td>\n",
       "      <td>0.142329</td>\n",
       "    </tr>\n",
       "    <tr>\n",
       "      <th>76</th>\n",
       "      <td>0.000000</td>\n",
       "      <td>0.000000</td>\n",
       "    </tr>\n",
       "    <tr>\n",
       "      <th>77</th>\n",
       "      <td>0.213980</td>\n",
       "      <td>0.284365</td>\n",
       "    </tr>\n",
       "    <tr>\n",
       "      <th>78</th>\n",
       "      <td>0.000000</td>\n",
       "      <td>0.000000</td>\n",
       "    </tr>\n",
       "    <tr>\n",
       "      <th>79</th>\n",
       "      <td>0.224309</td>\n",
       "      <td>0.176425</td>\n",
       "    </tr>\n",
       "    <tr>\n",
       "      <th>80</th>\n",
       "      <td>0.132745</td>\n",
       "      <td>0.108842</td>\n",
       "    </tr>\n",
       "    <tr>\n",
       "      <th>81</th>\n",
       "      <td>0.000000</td>\n",
       "      <td>0.000000</td>\n",
       "    </tr>\n",
       "    <tr>\n",
       "      <th>82</th>\n",
       "      <td>0.327327</td>\n",
       "      <td>0.297161</td>\n",
       "    </tr>\n",
       "    <tr>\n",
       "      <th>83</th>\n",
       "      <td>0.597948</td>\n",
       "      <td>0.499033</td>\n",
       "    </tr>\n",
       "    <tr>\n",
       "      <th>84</th>\n",
       "      <td>0.179244</td>\n",
       "      <td>0.142392</td>\n",
       "    </tr>\n",
       "    <tr>\n",
       "      <th>85</th>\n",
       "      <td>0.283422</td>\n",
       "      <td>0.214690</td>\n",
       "    </tr>\n",
       "    <tr>\n",
       "      <th>86</th>\n",
       "      <td>0.088542</td>\n",
       "      <td>0.078866</td>\n",
       "    </tr>\n",
       "    <tr>\n",
       "      <th>87</th>\n",
       "      <td>0.384461</td>\n",
       "      <td>0.453010</td>\n",
       "    </tr>\n",
       "    <tr>\n",
       "      <th>88</th>\n",
       "      <td>0.099751</td>\n",
       "      <td>0.057132</td>\n",
       "    </tr>\n",
       "    <tr>\n",
       "      <th>89</th>\n",
       "      <td>0.350823</td>\n",
       "      <td>0.392353</td>\n",
       "    </tr>\n",
       "    <tr>\n",
       "      <th>90</th>\n",
       "      <td>0.437688</td>\n",
       "      <td>0.332157</td>\n",
       "    </tr>\n",
       "    <tr>\n",
       "      <th>91</th>\n",
       "      <td>0.198680</td>\n",
       "      <td>0.232070</td>\n",
       "    </tr>\n",
       "    <tr>\n",
       "      <th>92</th>\n",
       "      <td>0.187729</td>\n",
       "      <td>0.148699</td>\n",
       "    </tr>\n",
       "    <tr>\n",
       "      <th>93</th>\n",
       "      <td>0.158610</td>\n",
       "      <td>0.052065</td>\n",
       "    </tr>\n",
       "    <tr>\n",
       "      <th>94</th>\n",
       "      <td>0.257143</td>\n",
       "      <td>0.233837</td>\n",
       "    </tr>\n",
       "    <tr>\n",
       "      <th>95</th>\n",
       "      <td>0.400892</td>\n",
       "      <td>0.477021</td>\n",
       "    </tr>\n",
       "    <tr>\n",
       "      <th>96</th>\n",
       "      <td>0.184805</td>\n",
       "      <td>0.264515</td>\n",
       "    </tr>\n",
       "    <tr>\n",
       "      <th>97</th>\n",
       "      <td>0.000000</td>\n",
       "      <td>0.000000</td>\n",
       "    </tr>\n",
       "    <tr>\n",
       "      <th>98</th>\n",
       "      <td>0.208514</td>\n",
       "      <td>0.189478</td>\n",
       "    </tr>\n",
       "    <tr>\n",
       "      <th>99</th>\n",
       "      <td>0.114374</td>\n",
       "      <td>0.072081</td>\n",
       "    </tr>\n",
       "  </tbody>\n",
       "</table>\n",
       "<p>100 rows × 2 columns</p>\n",
       "</div>"
      ],
      "text/plain": [
       "    cosine_count  cosine_tfidf\n",
       "0       0.144338      0.129630\n",
       "1       0.241955      0.249450\n",
       "2       0.362473      0.353767\n",
       "3       0.188562      0.140551\n",
       "4       0.000000      0.000000\n",
       "5       0.359211      0.135160\n",
       "6       0.116642      0.185533\n",
       "7       0.066667      0.109129\n",
       "8       0.217250      0.169899\n",
       "9       0.286910      0.236714\n",
       "10      0.115987      0.182537\n",
       "11      0.047246      0.048947\n",
       "12      0.047946      0.091803\n",
       "13      0.444554      0.362271\n",
       "14      0.195180      0.181003\n",
       "15      0.096225      0.067655\n",
       "16      0.000000      0.000000\n",
       "17      0.136717      0.118413\n",
       "18      0.160128      0.178269\n",
       "19      0.219199      0.157162\n",
       "20      0.160128      0.134373\n",
       "21      0.000000      0.000000\n",
       "22      0.168232      0.096064\n",
       "23      0.307729      0.300493\n",
       "24      0.106600      0.158227\n",
       "25      0.526152      0.528172\n",
       "26      0.243857      0.227389\n",
       "27      0.070535      0.046695\n",
       "28      0.218218      0.186266\n",
       "29      0.000000      0.000000\n",
       "..           ...           ...\n",
       "70      0.068680      0.038034\n",
       "71      0.213201      0.143734\n",
       "72      0.170251      0.151807\n",
       "73      0.145095      0.203128\n",
       "74      0.174402      0.198369\n",
       "75      0.181071      0.142329\n",
       "76      0.000000      0.000000\n",
       "77      0.213980      0.284365\n",
       "78      0.000000      0.000000\n",
       "79      0.224309      0.176425\n",
       "80      0.132745      0.108842\n",
       "81      0.000000      0.000000\n",
       "82      0.327327      0.297161\n",
       "83      0.597948      0.499033\n",
       "84      0.179244      0.142392\n",
       "85      0.283422      0.214690\n",
       "86      0.088542      0.078866\n",
       "87      0.384461      0.453010\n",
       "88      0.099751      0.057132\n",
       "89      0.350823      0.392353\n",
       "90      0.437688      0.332157\n",
       "91      0.198680      0.232070\n",
       "92      0.187729      0.148699\n",
       "93      0.158610      0.052065\n",
       "94      0.257143      0.233837\n",
       "95      0.400892      0.477021\n",
       "96      0.184805      0.264515\n",
       "97      0.000000      0.000000\n",
       "98      0.208514      0.189478\n",
       "99      0.114374      0.072081\n",
       "\n",
       "[100 rows x 2 columns]"
      ]
     },
     "execution_count": 42,
     "metadata": {},
     "output_type": "execute_result"
    }
   ],
   "source": [
    "df_train[['cosine_count', 'cosine_tfidf']]"
   ]
  },
  {
   "cell_type": "code",
   "execution_count": 55,
   "metadata": {
    "collapsed": false
   },
   "outputs": [
    {
     "data": {
      "text/plain": [
       "<matplotlib.collections.PathCollection at 0x116be6f50>"
      ]
     },
     "execution_count": 55,
     "metadata": {},
     "output_type": "execute_result"
    },
    {
     "data": {
      "image/png": "[encoded data removed]",
      "text/plain": [
       "<matplotlib.figure.Figure at 0x116742e90>"
      ]
     },
     "metadata": {},
     "output_type": "display_data"
    }
   ],
   "source": [
    "plt.scatter(df_train['cosine_tfidf'], df_train['relevance'] )"
   ]
  },
  {
   "cell_type": "code",
   "execution_count": 39,
   "metadata": {
    "collapsed": false
   },
   "outputs": [
    {
     "data": {
      "text/plain": [
       "<mpl_toolkits.mplot3d.art3d.Path3DCollection at 0x1111638d0>"
      ]
     },
     "execution_count": 39,
     "metadata": {},
     "output_type": "execute_result"
    },
    {
     "data": {
      "image/png": "[encoded data removed]",
      "text/plain": [
       "<matplotlib.figure.Figure at 0x111163510>"
      ]
     },
     "metadata": {},
     "output_type": "display_data"
    }
   ],
   "source": [
    "ax = plt.subplot(111, projection='3d')\n",
    "ax.scatter(df_train['cosine_tfidf'], df_train['cosine_count'],\n",
    "               zs=df_train['relevance'], s=20, c='b', depthshade=True)"
   ]
  },
  {
   "cell_type": "code",
   "execution_count": 11,
   "metadata": {
    "collapsed": false
   },
   "outputs": [
    {
     "data": {
      "text/plain": [
       "array([[ 0.36247326]])"
      ]
     },
     "execution_count": 11,
     "metadata": {},
     "output_type": "execute_result"
    }
   ],
   "source": [
    "\n",
    "row_num = df_prods[df_prods['product_uid'] == row['product_uid']].index\n",
    "\n"
   ]
  },
  {
   "cell_type": "code",
   "execution_count": 12,
   "metadata": {
    "collapsed": false
   },
   "outputs": [
    {
     "data": {
      "text/plain": [
       "array([[ 0.35376704]])"
      ]
     },
     "execution_count": 12,
     "metadata": {},
     "output_type": "execute_result"
    }
   ],
   "source": [
    "\n",
    "row_num = df_prods[df_prods['product_uid'] == row['product_uid']].index\n",
    "cosine_similarity(X_tfidf[row_num],tfidf.transform([row['search_term']]))"
   ]
  },
  {
   "cell_type": "code",
   "execution_count": 14,
   "metadata": {
    "collapsed": false
   },
   "outputs": [
    {
     "data": {
      "text/plain": [
       "array([[ 0.]])"
      ]
     },
     "execution_count": 14,
     "metadata": {},
     "output_type": "execute_result"
    }
   ],
   "source": [
    "vect_singular = CountVectorizer(min_df=1, stop_words=stopwords.words('english'))\n",
    "X_sing = vect_singular.fit_transform(row[['product_description', 'search_term']])\n",
    "cosine_similarity(X_sing[0],X_sing[1])"
   ]
  },
  {
   "cell_type": "code",
   "execution_count": null,
   "metadata": {
    "collapsed": true
   },
   "outputs": [],
   "source": []
  }
 ],
 "metadata": {
  "kernelspec": {
   "display_name": "Python 2",
   "language": "python",
   "name": "python2"
  },
  "language_info": {
   "codemirror_mode": {
    "name": "ipython",
    "version": 2
   },
   "file_extension": ".py",
   "mimetype": "text/x-python",
   "name": "python",
   "nbconvert_exporter": "python",
   "pygments_lexer": "ipython2",
   "version": "2.7.11"
  }
 },
 "nbformat": 4,
 "nbformat_minor": 0
}
