{
 "cells": [
  {
   "cell_type": "code",
   "execution_count": 21,
   "metadata": {
    "collapsed": false
   },
   "outputs": [
    {
     "name": "stdout",
     "output_type": "stream",
     "text": [
      "The autoreload extension is already loaded. To reload it, use:\n",
      "  %reload_ext autoreload\n"
     ]
    }
   ],
   "source": [
    "# Boilerplate at top of file\n",
    "%load_ext autoreload\n",
    "\n",
    "%autoreload 2\n",
    "import warnings\n",
    "warnings.filterwarnings('ignore')\n",
    "import pandas as pd\n",
    "import numpy as np\n",
    "import datetime\n",
    "import math\n",
    "\n",
    "import matplotlib.pyplot as plt\n",
    "import matplotlib\n",
    "\n",
    "%matplotlib inline\n",
    "plt.style.use('ggplot')\n",
    "\n",
    "import seaborn as sns\n",
    "from ggplot import *\n",
    "\n",
    "\n",
    "### Custom\n",
    "import nltk\n",
    "import sys\n",
    "sys.path.append('../')\n",
    "import cleaner\n",
    "from feature_eng import FeatureFactory\n",
    "import random"
   ]
  },
  {
   "cell_type": "code",
   "execution_count": 161,
   "metadata": {
    "collapsed": false
   },
   "outputs": [],
   "source": [
    "from sklearn.ensemble import RandomForestRegressor, GradientBoostingRegressor, BaggingRegressor\n",
    "\n",
    "from sklearn.linear_model import LinearRegression,  Lasso, LassoCV\n",
    "from sklearn.metrics import mean_squared_error\n",
    "from sklearn.cross_validation import KFold\n",
    "from sklearn.neighbors import KNeighborsRegressor\n",
    "from sklearn.base import clone\n",
    "from sklearn.feature_selection import SelectKBest, VarianceThreshold\n",
    "from sklearn.pipeline import Pipeline"
   ]
  },
  {
   "cell_type": "code",
   "execution_count": 43,
   "metadata": {
    "collapsed": false
   },
   "outputs": [
    {
     "name": "stdout",
     "output_type": "stream",
     "text": [
      "Loading science data for  SearchDescriptionCountVectorizer  from  ../pickles//SearchDescriptionCountVectorizer.pkl\n",
      "Generating a corpus index\n",
      "Loading science data for  SearchDescriptionTfidfVectorizer  from  ../pickles//SearchDescriptionTfidfVectorizer.pkl\n",
      "Generating a corpus index\n"
     ]
    }
   ],
   "source": [
    "ff = FeatureFactory(corpus_csv='../data/product_descriptions.csv', pickle_path = '../pickles/')"
   ]
  },
  {
   "cell_type": "code",
   "execution_count": 124,
   "metadata": {
    "collapsed": true
   },
   "outputs": [],
   "source": [
    "df_train_full = pd.read_csv('../data/train_features_v2.csv')\n",
    "# smaller ssample size for test_purposes\n",
    "df_train = df_train_full"
   ]
  },
  {
   "cell_type": "code",
   "execution_count": 144,
   "metadata": {
    "collapsed": false
   },
   "outputs": [],
   "source": [
    "df_train = df_train.iloc[random.sample(df_train.index,2000)].reset_index()"
   ]
  },
  {
   "cell_type": "code",
   "execution_count": 126,
   "metadata": {
    "collapsed": false
   },
   "outputs": [],
   "source": [
    "## Constants\n",
    "Y_KEY = 'relevance'\n",
    "feat_cols = ff.get_feature_names()"
   ]
  },
  {
   "cell_type": "code",
   "execution_count": 187,
   "metadata": {
    "collapsed": false
   },
   "outputs": [],
   "source": [
    "def apse_k_fold(clfs, x, y, k = 10, \n",
    "                m_metric = lambda x,y : mean_squared_error(x,y)**0.5,\n",
    "                verbose=False,\n",
    "               feature_selection = lambda df, x_col, y_col: (np.array(df[x_col]), np.array(df[y_col]))\n",
    "               ):\n",
    "    # all uses the same folds\n",
    "    # for RMSE\n",
    "    n = len(y)\n",
    "\n",
    "    X = np.array(x)\n",
    "    y = np.array(y)\n",
    "\n",
    "    print X.shape\n",
    "    kf = KFold(n, n_folds=k)\n",
    "\n",
    "#     X = np.array(df[x_col])\n",
    "#     y = np.array(df[y_col])\n",
    "    results = []\n",
    "    for clf in clfs:\n",
    "        if verbose:\n",
    "            print '%s-Fold Cross Validation for %s' % (k, clf.__class__.__name__)\n",
    "        fm = clone(clf).fit(X, y)\n",
    "        apses = []\n",
    "        varias =  []\n",
    "        for train_index, test_index in kf:\n",
    "        #     print(\"TRAIN:\", train_index, \"TEST:\", test_index)\n",
    "            X_train, X_test = X[train_index], X[test_index]\n",
    "            y_train, y_test = y[train_index], y[test_index]\n",
    "            clf.fit(X_train, y_train)\n",
    "            y_pred = clf.predict(X_test)\n",
    "\n",
    "            fm_y_pred = fm.predict(X_test)\n",
    "            var = m_metric(y_test, fm_y_pred)\n",
    "            apse = m_metric(y_test, y_pred)\n",
    "            apses.append(apse)\n",
    "            varias.append(var)\n",
    "#             mse = m_metric(fm_y_pred, y_)\n",
    "            if verbose:\n",
    "                print \"APSE\", apse, \"Variance\", var\n",
    "        results.append(dict(\n",
    "            classifier = clf.__class__.__name__,\n",
    "            params = clf.get_params(),\n",
    "            apse_mean = np.mean(apses),\n",
    "            var_mean = np.mean(varias),\n",
    "            ))\n",
    "    return pd.DataFrame(results)\n",
    "from sklearn.feature_selection import f_regression\n",
    "def feature_selection(df, x_col, y_col):\n",
    "    kbest = SelectKBest(f_regression, k=5)\n",
    "    X =  kbest.fit_transform(df[x_col], df[y_col])\n",
    "    Y = df[y_col]\n",
    "    return X,Y"
   ]
  },
  {
   "cell_type": "code",
   "execution_count": 190,
   "metadata": {
    "collapsed": false
   },
   "outputs": [
    {
     "name": "stdout",
     "output_type": "stream",
     "text": [
      "(2000, 24)\n"
     ]
    },
    {
     "data": {
      "text/html": [
       "<div>\n",
       "<table border=\"1\" class=\"dataframe\">\n",
       "  <thead>\n",
       "    <tr style=\"text-align: right;\">\n",
       "      <th></th>\n",
       "      <th>apse_mean</th>\n",
       "      <th>classifier</th>\n",
       "      <th>params</th>\n",
       "      <th>var_mean</th>\n",
       "    </tr>\n",
       "  </thead>\n",
       "  <tbody>\n",
       "    <tr>\n",
       "      <th>0</th>\n",
       "      <td>0.528140</td>\n",
       "      <td>RandomForestRegressor</td>\n",
       "      <td>{u'warm_start': False, u'oob_score': False, u'...</td>\n",
       "      <td>0.223918</td>\n",
       "    </tr>\n",
       "    <tr>\n",
       "      <th>1</th>\n",
       "      <td>0.504683</td>\n",
       "      <td>LinearRegression</td>\n",
       "      <td>{u'copy_X': True, u'normalize': False, u'n_job...</td>\n",
       "      <td>0.499457</td>\n",
       "    </tr>\n",
       "    <tr>\n",
       "      <th>2</th>\n",
       "      <td>0.510403</td>\n",
       "      <td>LassoCV</td>\n",
       "      <td>{u'normalize': False, u'alphas': None, u'n_job...</td>\n",
       "      <td>0.506328</td>\n",
       "    </tr>\n",
       "    <tr>\n",
       "      <th>3</th>\n",
       "      <td>0.501898</td>\n",
       "      <td>GradientBoostingRegressor</td>\n",
       "      <td>{u'warm_start': False, u'loss': u'ls', u'verbo...</td>\n",
       "      <td>0.443130</td>\n",
       "    </tr>\n",
       "    <tr>\n",
       "      <th>4</th>\n",
       "      <td>0.536694</td>\n",
       "      <td>BaggingRegressor</td>\n",
       "      <td>{u'max_samples': 1.0, u'base_estimator': None,...</td>\n",
       "      <td>0.228218</td>\n",
       "    </tr>\n",
       "    <tr>\n",
       "      <th>5</th>\n",
       "      <td>0.573118</td>\n",
       "      <td>KNeighborsRegressor</td>\n",
       "      <td>{u'n_neighbors': 5, u'algorithm': u'auto', u'm...</td>\n",
       "      <td>0.462247</td>\n",
       "    </tr>\n",
       "  </tbody>\n",
       "</table>\n",
       "</div>"
      ],
      "text/plain": [
       "   apse_mean                 classifier  \\\n",
       "0   0.528140      RandomForestRegressor   \n",
       "1   0.504683           LinearRegression   \n",
       "2   0.510403                    LassoCV   \n",
       "3   0.501898  GradientBoostingRegressor   \n",
       "4   0.536694           BaggingRegressor   \n",
       "5   0.573118        KNeighborsRegressor   \n",
       "\n",
       "                                              params  var_mean  \n",
       "0  {u'warm_start': False, u'oob_score': False, u'...  0.223918  \n",
       "1  {u'copy_X': True, u'normalize': False, u'n_job...  0.499457  \n",
       "2  {u'normalize': False, u'alphas': None, u'n_job...  0.506328  \n",
       "3  {u'warm_start': False, u'loss': u'ls', u'verbo...  0.443130  \n",
       "4  {u'max_samples': 1.0, u'base_estimator': None,...  0.228218  \n",
       "5  {u'n_neighbors': 5, u'algorithm': u'auto', u'm...  0.462247  "
      ]
     },
     "execution_count": 190,
     "metadata": {},
     "output_type": "execute_result"
    }
   ],
   "source": [
    "rf = RandomForestRegressor()\n",
    "lm = LinearRegression()\n",
    "lasso = LassoCV()\n",
    "gbr = GradientBoostingRegressor()\n",
    "bgr = BaggingRegressor()\n",
    "knn = KNeighborsRegressor()\n",
    "# apse_k_fold(rf, df_train, feat_cols, Y_KEY)\n",
    "\n",
    "df_res = apse_k_fold([rf, lm, lasso, gbr, bgr, knn], df_train[feat_cols], df_train[Y_KEY], feature_selection=feature_selection)\n",
    "df_res"
   ]
  },
  {
   "cell_type": "markdown",
   "metadata": {},
   "source": [
    "# visualize"
   ]
  },
  {
   "cell_type": "code",
   "execution_count": 140,
   "metadata": {
    "collapsed": false
   },
   "outputs": [
    {
     "data": {
      "text/plain": [
       "<matplotlib.collections.PathCollection at 0x1347a0410>"
      ]
     },
     "execution_count": 140,
     "metadata": {},
     "output_type": "execute_result"
    },
    {
     "data": {
      "image/png": "[encoded data removed]",
      "text/plain": [
       "<matplotlib.figure.Figure at 0x115008910>"
      ]
     },
     "metadata": {},
     "output_type": "display_data"
    }
   ],
   "source": [
    "from sklearn.lda import LDA\n",
    "from sklearn.decomposition import TruncatedSVD,PCA\n",
    "\n",
    "lda = LDA()\n",
    "svd = TruncatedSVD(n_components=2)\n",
    "pca = PCA(n_components=2)\n",
    "X, Y = feature_selection(df_train, feat_cols, Y_KEY)\n",
    "Y = np.round(Y) - 1\n",
    "X = pca.fit_transform(X,Y)\n",
    "\n",
    "colors=['red', 'blue', 'green']\n",
    "plt.scatter(X[:,0], X[:,1], c = map(lambda x: colors[int(x)], Y))"
   ]
  },
  {
   "cell_type": "code",
   "execution_count": 191,
   "metadata": {
    "collapsed": false
   },
   "outputs": [
    {
     "name": "stdout",
     "output_type": "stream",
     "text": [
      "(2000, 24)\n"
     ]
    },
    {
     "data": {
      "text/plain": [
       "<matplotlib.text.Text at 0x11a6aa490>"
      ]
     },
     "execution_count": 191,
     "metadata": {},
     "output_type": "execute_result"
    },
    {
     "data": {
      "image/png": "[encoded data removed]",
      "text/plain": [
       "<matplotlib.figure.Figure at 0x11db9f7d0>"
      ]
     },
     "metadata": {},
     "output_type": "display_data"
    }
   ],
   "source": [
    "steps = [('var_thresh', VarianceThreshold()),\n",
    "        ('kbest', SelectKBest(f_regression,k=22)),\n",
    "        ('clf', GradientBoostingRegressor(max_features=22, max_depth=10,n_estimators=1000))]\n",
    "pipeline = Pipeline(steps)\n",
    "apse_k_fold([pipeline], df_train[feat_cols], df_train[Y_KEY], feature_selection=feature_selection)\n"
   ]
  }
 ],
 "metadata": {
  "kernelspec": {
   "display_name": "Python 2",
   "language": "python",
   "name": "python2"
  },
  "language_info": {
   "codemirror_mode": {
    "name": "ipython",
    "version": 2
   },
   "file_extension": ".py",
   "mimetype": "text/x-python",
   "name": "python",
   "nbconvert_exporter": "python",
   "pygments_lexer": "ipython2",
   "version": "2.7.11"
  }
 },
 "nbformat": 4,
 "nbformat_minor": 0
}
