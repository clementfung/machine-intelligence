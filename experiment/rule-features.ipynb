{
 "cells": [
  {
   "cell_type": "code",
   "execution_count": 9,
   "metadata": {
    "collapsed": false
   },
   "outputs": [
    {
     "name": "stdout",
     "output_type": "stream",
     "text": [
      "The autoreload extension is already loaded. To reload it, use:\n",
      "  %reload_ext autoreload\n",
      "The rmagic extension is already loaded. To reload it, use:\n",
      "  %reload_ext rmagic\n"
     ]
    }
   ],
   "source": [
    "# Boilerplate at top of file\n",
    "%load_ext autoreload\n",
    "%load_ext rmagic\n",
    "%autoreload 2\n",
    "import warnings\n",
    "warnings.filterwarnings('ignore')\n",
    "import pandas as pd\n",
    "import numpy as np\n",
    "import datetime\n",
    "import math\n",
    "\n",
    "import matplotlib.pyplot as plt\n",
    "%matplotlib inline\n",
    "plt.style.use('ggplot')\n",
    "import seaborn as sns\n",
    "from ggplot import *\n",
    "\n",
    "\n",
    "### Custom\n",
    "import nltk\n",
    "import sys\n",
    "sys.path.append('../')\n",
    "import cleaner"
   ]
  },
  {
   "cell_type": "code",
   "execution_count": 10,
   "metadata": {
    "collapsed": true
   },
   "outputs": [],
   "source": [
    "df = pd.read_csv('../data/train_sample.csv')\n",
    "# df = pd.read_csv('../data/train.csv')"
   ]
  },
  {
   "cell_type": "code",
   "execution_count": 11,
   "metadata": {
    "collapsed": false
   },
   "outputs": [
    {
     "data": {
      "text/plain": [
       "0                           (ENERGY STAR Certified, No)\n",
       "1                            (Brand compatibility, Yes)\n",
       "2     (Bullet01, Blends classic style and single con...\n",
       "3                       (Kitchen Faucet Type, Pull Out)\n",
       "4                                   (Weight (lb.), .77)\n",
       "5     (Bullet06, Water absorption is more than 3% bu...\n",
       "6                         (Product Weight (lb.), 10.23)\n",
       "7                           (Product Width (in.), 6.88)\n",
       "8                                (Number in Package, 1)\n",
       "9                                 (Color Family, Beige)\n",
       "10                            (Shutter Size, 14-1/2x60)\n",
       "11                               (Rug Shape, Rectangle)\n",
       "12    (Bullet07, Double-bore lock box fits most 2-3/...\n",
       "13    (Bullet02, Power to drive nails up to 3-1/2 in...\n",
       "14                                        (Use, Corner)\n",
       "15    (Bullet06, Drawers fully extend on easy-slide ...\n",
       "16    (Bullet04, Pre-assembled, 5 ft. 11 in. high x ...\n",
       "17                         (Product Height (in.), 6.65)\n",
       "18                          (Product Depth (in.), 16.8)\n",
       "19    (Bullet06, This Spa exceeds the California Ene...\n",
       "20                   (Features, Telescoping/Adjustable)\n",
       "21                          (Product Weight (lb.), 7.2)\n",
       "22                (MFG Brand Name, Alexandria Moulding)\n",
       "23                      (Nominal panel height (ft.), 6)\n",
       "24                                    (Connection 1, M)\n",
       "25                            (Stainable/Paintable, No)\n",
       "26                           (Bullet03, Biscuit finish)\n",
       "27                            (Product Width (in.), 72)\n",
       "28                          (Product Height (in.), 1.5)\n",
       "29                               (Voltage (volts), 120)\n",
       "                            ...                        \n",
       "70                                (Duct Type, 6\" Round)\n",
       "71                    (Assembled Width (in.), 4.025 in)\n",
       "72                         (Product Width (in.), 17.75)\n",
       "73                           (Recommended bulb type, G)\n",
       "74                             (Number of USB Ports, 2)\n",
       "75                                  (Ice Maker, Single)\n",
       "76         (Stainable/Paintable, Stainable & Paintable)\n",
       "77         (Bullet04, Light appearance: 3000K (reveal))\n",
       "78                     (Maximum fastener size (in.), 2)\n",
       "79                                   (Door Type, Storm)\n",
       "80                               (Tile Material, Glass)\n",
       "81                          (ENERGY STAR Certified, No)\n",
       "82                         (Average Life (hours), 4400)\n",
       "83                               (Battery Amp Hours, 0)\n",
       "84                            (Head Pressure (ft.), 20)\n",
       "85    (Bullet15, Actual paint colors may vary from o...\n",
       "86                        (Flushing Type, Single Flush)\n",
       "87                           (Product Weight (lb.), 28)\n",
       "88                          (Product Width (in.), 2.75)\n",
       "89    (Patching & Repair Product Type, Porcelain Rep...\n",
       "90                                (Color Family, White)\n",
       "91    (Patching & Repair Product Type, Porcelain Rep...\n",
       "92                               (Outlet Size, 3/8 In.)\n",
       "93                         (Element No.6 Size (In.), 0)\n",
       "94                               (Fitting 1 size, 3/8\")\n",
       "95    (Exact Width x Depth, 10 ft 3.25 in x 7 ft 11....\n",
       "96    (Certifications and Listings, No Certification...\n",
       "97           (Bullet03, Chairs with 360° swivel motion)\n",
       "98                            (Bullet10, Cleans easily)\n",
       "99                      (Bath Faucet Type, Single Hole)\n",
       "Name: attributes, dtype: object"
      ]
     },
     "execution_count": 11,
     "metadata": {},
     "output_type": "execute_result"
    }
   ],
   "source": [
    "df['attributes'].apply(lambda x: eval(x)[0])"
   ]
  },
  {
   "cell_type": "markdown",
   "metadata": {},
   "source": [
    "# Feature explore"
   ]
  },
  {
   "cell_type": "code",
   "execution_count": 12,
   "metadata": {
    "collapsed": true
   },
   "outputs": [],
   "source": [
    "### Util Functions\n",
    "def tokenize_string(string):\n",
    "    string = str(string)\n",
    "    return string.lower()\n",
    "\n",
    "### Feature functions\n",
    "def match_search_term_to_title(row):\n",
    "    \"\"\"\n",
    "    Is the search term in the product title?\n",
    "    \"\"\"\n",
    "    searh_term = tokenize_string(row['search_term'])\n",
    "    prod_title = tokenize_string(row['product_title'])\n",
    "    \n",
    "    return prod_title.find(searh_term) != - 1\n",
    "\n",
    "def match_search_term_to_description(row):\n",
    "    \"\"\"\n",
    "    Is the search term in the product desc?\n",
    "    \"\"\"\n",
    "    searh_term = tokenize_string(row['search_term'])\n",
    "    prod_desc = tokenize_string(row['product_description'])\n",
    "    \n",
    "    return prod_desc.find(searh_term) != - 1\n",
    "\n",
    "def count_description(row):\n",
    "    \"\"\"\n",
    "    Length of description\n",
    "    \"\"\"\n",
    "    return len(tokenize_string(row['product_description']).split(' '))\n",
    "\n",
    "\n",
    "def count_search_description_occurences(row):\n",
    "    \"\"\"\n",
    "    Sum of times search term appears in the description\n",
    "    \"\"\"\n",
    "    search_term = tokenize_string(row['search_term'])\n",
    "    prod_desc = tokenize_string(row['product_description'])\n",
    "    sums = 0\n",
    "    for t in search_term.split(' '):\n",
    "        sums += prod_desc.count(t)\n",
    "    return sums\n",
    "\n",
    "def match_search_description_occurences(row):\n",
    "    \"\"\"\n",
    "    Number of times search term matches in the description (boolean count)\n",
    "    \"\"\"\n",
    "    search_term = tokenize_string(row['search_term'])\n",
    "    prod_desc = tokenize_string(row['product_description'])\n",
    "    sums = 0\n",
    "    for t in search_term.split(' '):\n",
    "        sums += search_term.find(t) != -1\n",
    "    return sums\n",
    "\n"
   ]
  },
  {
   "cell_type": "code",
   "execution_count": 13,
   "metadata": {
    "collapsed": false
   },
   "outputs": [],
   "source": [
    "df_feats = pd.DataFrame()\n",
    "df_feats['match_search'] = df.apply(match_search_term_to_title,axis=1)\n",
    "df_feats['match_desc'] = df.apply(match_search_term_to_description,axis=1)\n",
    "df_feats['desc_count'] = df.apply(count_description,axis=1)\n",
    "df_feats['search_desc_count'] = df.apply(count_search_description_occurences,axis=1)\n",
    "df_feats['search_desc_match'] = df.apply(match_search_description_occurences,axis=1)\n",
    "df_feats['relevance'] = df['relevance']"
   ]
  },
  {
   "cell_type": "code",
   "execution_count": null,
   "metadata": {
    "collapsed": true
   },
   "outputs": [],
   "source": []
  },
  {
   "cell_type": "code",
   "execution_count": null,
   "metadata": {
    "collapsed": true
   },
   "outputs": [],
   "source": []
  }
 ],
 "metadata": {
  "kernelspec": {
   "display_name": "Python 2",
   "language": "python",
   "name": "python2"
  },
  "language_info": {
   "codemirror_mode": {
    "name": "ipython",
    "version": 2
   },
   "file_extension": ".py",
   "mimetype": "text/x-python",
   "name": "python",
   "nbconvert_exporter": "python",
   "pygments_lexer": "ipython2",
   "version": "2.7.11"
  }
 },
 "nbformat": 4,
 "nbformat_minor": 0
}
