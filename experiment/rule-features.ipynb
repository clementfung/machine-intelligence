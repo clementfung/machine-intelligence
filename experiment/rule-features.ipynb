{
 "cells": [
  {
   "cell_type": "code",
   "execution_count": 69,
   "metadata": {
    "collapsed": false
   },
   "outputs": [
    {
     "name": "stdout",
     "output_type": "stream",
     "text": [
      "The autoreload extension is already loaded. To reload it, use:\n",
      "  %reload_ext autoreload\n",
      "The rmagic extension is already loaded. To reload it, use:\n",
      "  %reload_ext rmagic\n"
     ]
    }
   ],
   "source": [
    "# Boilerplate at top of file\n",
    "%load_ext autoreload\n",
    "%load_ext rmagic\n",
    "%autoreload 2\n",
    "import warnings\n",
    "warnings.filterwarnings('ignore')\n",
    "import pandas as pd\n",
    "import numpy as np\n",
    "import datetime\n",
    "import math\n",
    "\n",
    "import matplotlib.pyplot as plt\n",
    "%matplotlib inline\n",
    "plt.style.use('ggplot')\n",
    "import seaborn as sns\n",
    "from ggplot import *\n",
    "\n",
    "\n",
    "### Custom\n",
    "import nltk\n",
    "import sys\n",
    "sys.path.append('../')\n",
    "import cleaner"
   ]
  },
  {
   "cell_type": "code",
   "execution_count": 66,
   "metadata": {
    "collapsed": true
   },
   "outputs": [],
   "source": [
    "df = pd.read_csv('../data/train_sample.csv')\n",
    "# df_full = pd.read_csv('../data/train.csv.csv')"
   ]
  },
  {
   "cell_type": "markdown",
   "metadata": {},
   "source": [
    "# Feature explore"
   ]
  },
  {
   "cell_type": "code",
   "execution_count": 41,
   "metadata": {
    "collapsed": false
   },
   "outputs": [],
   "source": [
    "### Util Functions\n",
    "def tokenize_string(string):\n",
    "    string = str(string)\n",
    "    return string.lower().strip().split(' ')\n",
    "\n",
    "def product_has_brand(row):\n",
    "    BRAND_KEY = 'Brand name'.lower()\n",
    "    attributes = eval(row['attributes'])\n",
    "    search_tokens = set(tokenize_string(row['search_term']))\n",
    "    for attr in attributes:\n",
    "        if attr[0].lower().find(BRAND_KEY) != -1:\n",
    "            return True\n",
    "    return False\n",
    "def product_searched_brand(row):\n",
    "    BRAND_KEY = 'Brand name'.lower()\n",
    "    attributes = eval(row['attributes'])\n",
    "    search_tokens = set(tokenize_string(row['search_term']))\n",
    "    for attr in attributes:\n",
    "        if attr[0].lower().find(BRAND_KEY) != -1:\n",
    "            attr_tokens = set(tokenize_string(attr[1]))\n",
    "            return len(attr_tokens.intersection(search_tokens))\n",
    "    return 0\n",
    "                \n",
    "            \n"
   ]
  },
  {
   "cell_type": "code",
   "execution_count": 42,
   "metadata": {
    "collapsed": false
   },
   "outputs": [],
   "source": [
    "df_feats = pd.DataFrame()\n",
    "# df_feats['match_search'] = df.apply(match_search_term_to_title,axis=1)\n",
    "# df_feats['match_desc'] = df.apply(match_search_term_to_description,axis=1)\n",
    "# df_feats['desc_count'] = df.apply(count_description,axis=1)\n",
    "# df_feats['search_desc_count'] = df.apply(count_search_description_occurences,axis=1)\n",
    "# df_feats['search_desc_match'] = df.apply(match_search_description_occurences,axis=1)\n",
    "df_feats['prod_has_brand'] = df.apply(product_has_brand,axis=1)\n",
    "df_feats['prod_search_brand_match'] = df.apply(product_searched_brand,axis=1)\n",
    "df_feats['relevance'] = df['relevance']"
   ]
  },
  {
   "cell_type": "code",
   "execution_count": 46,
   "metadata": {
    "collapsed": false
   },
   "outputs": [
    {
     "data": {
      "text/html": [
       "<div>\n",
       "<table border=\"1\" class=\"dataframe\">\n",
       "  <thead>\n",
       "    <tr style=\"text-align: right;\">\n",
       "      <th></th>\n",
       "      <th>index</th>\n",
       "      <th>id</th>\n",
       "      <th>product_uid</th>\n",
       "      <th>product_title</th>\n",
       "      <th>search_term</th>\n",
       "      <th>relevance</th>\n",
       "      <th>product_uid.1</th>\n",
       "      <th>product_description</th>\n",
       "      <th>attributes</th>\n",
       "    </tr>\n",
       "  </thead>\n",
       "  <tbody>\n",
       "    <tr>\n",
       "      <th>22</th>\n",
       "      <td>16545</td>\n",
       "      <td>51037</td>\n",
       "      <td>113077</td>\n",
       "      <td>Hedrix 11 oz. Match of PPU8-7 Chamois Tan Glos...</td>\n",
       "      <td>chamois</td>\n",
       "      <td>2.67</td>\n",
       "      <td>113077</td>\n",
       "      <td>The Empire Line Levels Set (2-Pack) can be use...</td>\n",
       "      <td>[('MFG Brand Name', 'Alexandria Moulding')]</td>\n",
       "    </tr>\n",
       "    <tr>\n",
       "      <th>33</th>\n",
       "      <td>22857</td>\n",
       "      <td>70354</td>\n",
       "      <td>119732</td>\n",
       "      <td>Elanti Oval Vessel Bathroom Sink in White</td>\n",
       "      <td>vessel bowls</td>\n",
       "      <td>3.00</td>\n",
       "      <td>119732</td>\n",
       "      <td>Simpson Strong-Tie connectors make projects ea...</td>\n",
       "      <td>[('MFG Brand Name', 'DEWALT')]</td>\n",
       "    </tr>\n",
       "    <tr>\n",
       "      <th>46</th>\n",
       "      <td>30527</td>\n",
       "      <td>93401</td>\n",
       "      <td>128679</td>\n",
       "      <td>Brinkmann 18 lb. Apple Wood Chunks</td>\n",
       "      <td>brinkmann smoker</td>\n",
       "      <td>2.00</td>\n",
       "      <td>128679</td>\n",
       "      <td>NaN</td>\n",
       "      <td>[('MFG Brand Name', 'Southern Enterprises')]</td>\n",
       "    </tr>\n",
       "    <tr>\n",
       "      <th>51</th>\n",
       "      <td>36601</td>\n",
       "      <td>111925</td>\n",
       "      <td>136737</td>\n",
       "      <td>BEHR Premium Plus Ultra 1-gal. #BL-W13 Silver ...</td>\n",
       "      <td>silver polish</td>\n",
       "      <td>2.67</td>\n",
       "      <td>136737</td>\n",
       "      <td>NaN</td>\n",
       "      <td>[('MFG Brand Name', 'Rubi')]</td>\n",
       "    </tr>\n",
       "  </tbody>\n",
       "</table>\n",
       "</div>"
      ],
      "text/plain": [
       "    index      id  product_uid  \\\n",
       "22  16545   51037       113077   \n",
       "33  22857   70354       119732   \n",
       "46  30527   93401       128679   \n",
       "51  36601  111925       136737   \n",
       "\n",
       "                                        product_title       search_term  \\\n",
       "22  Hedrix 11 oz. Match of PPU8-7 Chamois Tan Glos...           chamois   \n",
       "33          Elanti Oval Vessel Bathroom Sink in White      vessel bowls   \n",
       "46                 Brinkmann 18 lb. Apple Wood Chunks  brinkmann smoker   \n",
       "51  BEHR Premium Plus Ultra 1-gal. #BL-W13 Silver ...     silver polish   \n",
       "\n",
       "    relevance  product_uid.1  \\\n",
       "22       2.67         113077   \n",
       "33       3.00         119732   \n",
       "46       2.00         128679   \n",
       "51       2.67         136737   \n",
       "\n",
       "                                  product_description  \\\n",
       "22  The Empire Line Levels Set (2-Pack) can be use...   \n",
       "33  Simpson Strong-Tie connectors make projects ea...   \n",
       "46                                                NaN   \n",
       "51                                                NaN   \n",
       "\n",
       "                                      attributes  \n",
       "22   [('MFG Brand Name', 'Alexandria Moulding')]  \n",
       "33                [('MFG Brand Name', 'DEWALT')]  \n",
       "46  [('MFG Brand Name', 'Southern Enterprises')]  \n",
       "51                  [('MFG Brand Name', 'Rubi')]  "
      ]
     },
     "execution_count": 46,
     "metadata": {},
     "output_type": "execute_result"
    }
   ],
   "source": [
    "df[df_feats['prod_has_brand']]"
   ]
  },
  {
   "cell_type": "code",
   "execution_count": 68,
   "metadata": {
    "collapsed": false
   },
   "outputs": [
    {
     "data": {
      "text/plain": [
       "{'Accessory Type',\n",
       " 'Application Method',\n",
       " 'Assembled Height (in.)',\n",
       " 'Assembled Width (in.)',\n",
       " 'Assembly Required',\n",
       " 'Average Life (hours)',\n",
       " 'Bath Faucet Type',\n",
       " 'Battery Amp Hours',\n",
       " 'Brand compatibility',\n",
       " 'Bullet01',\n",
       " 'Bullet02',\n",
       " 'Bullet03',\n",
       " 'Bullet04',\n",
       " 'Bullet05',\n",
       " 'Bullet06',\n",
       " 'Bullet07',\n",
       " 'Bullet10',\n",
       " 'Bullet14',\n",
       " 'Bullet15',\n",
       " 'Case Included',\n",
       " 'Certifications and Listings',\n",
       " 'Color Family',\n",
       " 'Commercial / Residential',\n",
       " 'Connection 1',\n",
       " 'Convertible to post mount',\n",
       " 'Door Type',\n",
       " 'Duct Type',\n",
       " 'ENERGY STAR Certified',\n",
       " 'Electronic',\n",
       " 'Element No.6 Size (In.)',\n",
       " 'Exact Width x Depth',\n",
       " 'Features',\n",
       " 'Fitting 1 size',\n",
       " 'Flushing Type',\n",
       " 'Head Pressure (ft.)',\n",
       " 'Ice Maker',\n",
       " 'Ionizing',\n",
       " 'Kitchen Faucet Type',\n",
       " 'Light Source',\n",
       " 'MFG Brand Name',\n",
       " 'Material',\n",
       " 'Maximum fastener size (in.)',\n",
       " 'Miter Saw Type',\n",
       " 'Nominal panel height (ft.)',\n",
       " 'Number in Package',\n",
       " 'Number of USB Ports',\n",
       " 'Outlet Size',\n",
       " 'Patching & Repair Product Type',\n",
       " 'Power Tool Product Type',\n",
       " 'Primed',\n",
       " 'Product Depth (in.)',\n",
       " 'Product Height (in.)',\n",
       " 'Product Weight (lb.)',\n",
       " 'Product Width (in.)',\n",
       " 'Recommended bulb type',\n",
       " 'Roller width (in.)',\n",
       " 'Rug Shape',\n",
       " 'Shutter Size',\n",
       " 'Specialty Tree Type',\n",
       " 'Stainable/Paintable',\n",
       " 'Tile Material',\n",
       " 'Use',\n",
       " 'Voltage (volts)',\n",
       " 'Weight (lb.)'}"
      ]
     },
     "execution_count": 68,
     "metadata": {},
     "output_type": "execute_result"
    }
   ],
   "source": [
    "# show the attributes\n",
    "set(reduce(lambda l,r: l + r, df['attributes'].apply(lambda x: [atr[0] for atr in eval(x)]).tolist()))"
   ]
  }
 ],
 "metadata": {
  "kernelspec": {
   "display_name": "Python 2",
   "language": "python",
   "name": "python2"
  },
  "language_info": {
   "codemirror_mode": {
    "name": "ipython",
    "version": 2
   },
   "file_extension": ".py",
   "mimetype": "text/x-python",
   "name": "python",
   "nbconvert_exporter": "python",
   "pygments_lexer": "ipython2",
   "version": "2.7.11"
  }
 },
 "nbformat": 4,
 "nbformat_minor": 0
}
